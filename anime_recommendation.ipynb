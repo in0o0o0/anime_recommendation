{
 "cells": [
  {
   "cell_type": "code",
   "execution_count": null,
   "metadata": {},
   "outputs": [],
   "source": [
    "import numpy as np\n",
    "from sklearn.feature_extraction.text import TfidfVectorizer\n",
    "np.set_printoptions(precision=3)         \n",
    "vectorizer = TfidfVectorizer(token_pattern=u'(?u)\\\\b\\\\w+\\\\b') \n",
    "\n",
    "docs = np.array([\n",
    "        'りんご りんご りんご みかん いちご', # 文書１\n",
    "        'みかん いちご いちご すいか',        # 文書２\n",
    "        'みかん すいか ぶどう',               # 文書３\n",
    "        'いちご ぶどう',                      # 文書４\n",
    "        ])\n",
    " \n",
    "vecs = vectorizer.fit_transform(docs)\n",
    " \n",
    "print (vecs.toarray())"
   ]
  },
  {
   "cell_type": "code",
   "execution_count": null,
   "metadata": {},
   "outputs": [],
   "source": [
    "#文書1のりんごを減らした\n",
    "docs = np.array([\n",
    "        'りんご みかん いちご',           # 文書１\n",
    "        'みかん いちご いちご すいか',    # 文書２\n",
    "        'みかん すいか ぶどう',           # 文書３\n",
    "        'いちご ぶどう',                  # 文書４\n",
    "        ])\n",
    " \n",
    "vecs = vectorizer.fit_transform(docs)\n",
    " \n",
    "print (vecs.toarray())"
   ]
  },
  {
   "cell_type": "code",
   "execution_count": null,
   "metadata": {},
   "outputs": [],
   "source": [
    "#りんごを含む文書5を追加\n",
    "docs = np.array([\n",
    "        'りんご りんご りんご みかん いちご', # 文書１\n",
    "        'みかん いちご いちご すいか',        # 文書２\n",
    "        'みかん すいか ぶどう',               # 文書３\n",
    "        'いちご ぶどう',                      # 文書４\n",
    "        'りんご りんご',                      # 文書５\n",
    "        ])\n",
    " \n",
    "vecs = vectorizer.fit_transform(docs)\n",
    " \n",
    "print (vecs.toarray())"
   ]
  },
  {
   "cell_type": "code",
   "execution_count": null,
   "metadata": {},
   "outputs": [],
   "source": [
    "#コサイン類似度の計算\n",
    "def cos_sim(v1, v2):\n",
    "    return np.dot(v1, v2) / (np.linalg.norm(v1) * np.linalg.norm(v2))\n",
    "\n",
    "docs = np.array([\n",
    "        'りんご りんご りんご みかん いちご', # 文書１\n",
    "        'みかん いちご いちご すいか',        # 文書２\n",
    "        'みかん すいか ぶどう',               # 文書３\n",
    "        'いちご ぶどう',                      # 文書４\n",
    "        ])\n",
    "vecs = vectorizer.fit_transform(docs)\n",
    "vecs.toarray()\n",
    "\n",
    "print(cos_sim(vecs.toarray()[0],vecs.toarray()[1]))\n",
    "print(cos_sim(vecs.toarray()[0],vecs.toarray()[2]))\n",
    "print(cos_sim(vecs.toarray()[0],vecs.toarray()[3]))"
   ]
  },
  {
   "cell_type": "code",
   "execution_count": null,
   "metadata": {},
   "outputs": [],
   "source": [
    "#データの読み込み\n",
    "import pandas as pd\n",
    "#https://www.kaggle.com/CooperUnion/anime-recommendations-database/homeからダウンロードしてください\n",
    "anime = pd.read_csv(\"anime.csv\")\n",
    "rating = pd.read_csv(\"rating.csv\")"
   ]
  },
  {
   "cell_type": "code",
   "execution_count": null,
   "metadata": {},
   "outputs": [],
   "source": [
    "#データの形状&タイプの確認\n",
    "print(anime.shape)\n",
    "print(rating.shape)\n",
    "print(type(anime))\n",
    "print(type(rating))"
   ]
  },
  {
   "cell_type": "code",
   "execution_count": null,
   "metadata": {
    "scrolled": true
   },
   "outputs": [],
   "source": [
    "#データの先頭5行の表示\n",
    "anime.head() "
   ]
  },
  {
   "cell_type": "code",
   "execution_count": null,
   "metadata": {
    "scrolled": true
   },
   "outputs": [],
   "source": [
    "rating.head()"
   ]
  },
  {
   "cell_type": "code",
   "execution_count": null,
   "metadata": {},
   "outputs": [],
   "source": [
    "#統計情報\n",
    "anime.describe()"
   ]
  },
  {
   "cell_type": "code",
   "execution_count": null,
   "metadata": {
    "scrolled": false
   },
   "outputs": [],
   "source": [
    "#統計情報\n",
    "rating.describe()"
   ]
  },
  {
   "cell_type": "code",
   "execution_count": null,
   "metadata": {
    "scrolled": true
   },
   "outputs": [],
   "source": [
    "#人気アニメ10件を表示\n",
    "anime.sort_values('members', ascending= False)[:10]"
   ]
  },
  {
   "cell_type": "code",
   "execution_count": null,
   "metadata": {
    "scrolled": true
   },
   "outputs": [],
   "source": [
    "#membersの分布\n",
    "%matplotlib inline\n",
    "anime['members'].hist(bins=11, figsize=(10,10), color = 'red')"
   ]
  },
  {
   "cell_type": "code",
   "execution_count": null,
   "metadata": {},
   "outputs": [],
   "source": [
    "%matplotlib inline\n",
    "anime[anime['members'] < 100000]['members'].hist(bins=11, figsize=(10,10), color = 'red')"
   ]
  },
  {
   "cell_type": "code",
   "execution_count": null,
   "metadata": {},
   "outputs": [],
   "source": [
    "#10,0000以下のデータは捨てる\n",
    "anime = anime[anime['members'] > 100000]"
   ]
  },
  {
   "cell_type": "code",
   "execution_count": null,
   "metadata": {},
   "outputs": [],
   "source": [
    "#スコアの分布\n",
    "%matplotlib inline\n",
    "rating['rating'].plot.hist(bins=50, figsize=(10,10), color = 'red')"
   ]
  },
  {
   "cell_type": "code",
   "execution_count": null,
   "metadata": {},
   "outputs": [],
   "source": [
    "round(rating.describe(),2)"
   ]
  },
  {
   "cell_type": "code",
   "execution_count": null,
   "metadata": {},
   "outputs": [],
   "source": [
    "#スコアが-1のものは削除する\n",
    "rating = rating[rating.rating > -1]\n",
    "round(rating.describe(),2)"
   ]
  },
  {
   "cell_type": "code",
   "execution_count": null,
   "metadata": {},
   "outputs": [],
   "source": [
    "#削除後のスコアの分布（-1がなくなっている）\n",
    "%matplotlib inline\n",
    "rating['rating'].hist(bins=50, figsize=(10,10), color = 'red')"
   ]
  },
  {
   "cell_type": "code",
   "execution_count": null,
   "metadata": {},
   "outputs": [],
   "source": [
    "#欠損データの確認\n",
    "anime.isnull().sum()"
   ]
  },
  {
   "cell_type": "code",
   "execution_count": null,
   "metadata": {},
   "outputs": [],
   "source": [
    "rating.isnull().sum()"
   ]
  },
  {
   "cell_type": "code",
   "execution_count": null,
   "metadata": {},
   "outputs": [],
   "source": [
    "#欠損があるデータの作成\n",
    "df = pd.DataFrame({\"name\": ['Alfred', 'Batman', 'Catwoman'],\n",
    "                   \"toy\": [np.nan, 'Batmobile', 'Bullwhip'],\n",
    "                   \"born\": [pd.NaT, pd.Timestamp(\"1940-04-25\"),\n",
    "                            pd.NaT]})\n",
    "df"
   ]
  },
  {
   "cell_type": "code",
   "execution_count": null,
   "metadata": {},
   "outputs": [],
   "source": [
    "#欠損データを削除\n",
    "df.dropna()"
   ]
  },
  {
   "cell_type": "code",
   "execution_count": null,
   "metadata": {},
   "outputs": [],
   "source": [
    "#欠損データを埋める\n",
    "df.fillna(0)"
   ]
  },
  {
   "cell_type": "code",
   "execution_count": null,
   "metadata": {},
   "outputs": [],
   "source": [
    "#欠損データを削除\n",
    "anime = anime.dropna()\n",
    "anime.isnull().sum()"
   ]
  },
  {
   "cell_type": "code",
   "execution_count": null,
   "metadata": {},
   "outputs": [],
   "source": [
    "#必要なデータのみを残す\n",
    "anime = anime[['anime_id','name']]\n",
    "anime.head()"
   ]
  },
  {
   "cell_type": "code",
   "execution_count": null,
   "metadata": {
    "scrolled": true
   },
   "outputs": [],
   "source": [
    "#内部結合で2つのデータをmerge\n",
    "merged_df = pd.merge(rating,anime,how='inner')\n",
    "merged_df.head()"
   ]
  },
  {
   "cell_type": "code",
   "execution_count": null,
   "metadata": {},
   "outputs": [],
   "source": [
    "#結合説明用データ\n",
    "df1 = pd.DataFrame({'name': ['Tom', 'Bob', 'Alice', 'michael','Eric'],\n",
    "                    'age': ['25', '60',np.nan, 40, 32],\n",
    "                    'job_code': [np.nan, 3, 2, 10, 3]},\n",
    "                    )\n",
    "df1"
   ]
  },
  {
   "cell_type": "code",
   "execution_count": null,
   "metadata": {},
   "outputs": [],
   "source": [
    "#結合説明用データ\n",
    "df2 = pd.DataFrame({'job_code': [1,2,3,4],\n",
    "                    'job': ['chef ', 'teacher', 'engineer', 'doctor']},\n",
    "                   )\n",
    "df2"
   ]
  },
  {
   "cell_type": "code",
   "execution_count": null,
   "metadata": {
    "scrolled": true
   },
   "outputs": [],
   "source": [
    "#内部結合\n",
    "pd.merge(df1,df2, left_on='job_code', right_on='job_code',how='inner')"
   ]
  },
  {
   "cell_type": "code",
   "execution_count": null,
   "metadata": {},
   "outputs": [],
   "source": [
    "#左外部結合\n",
    "pd.merge(df1,df2,how='left')"
   ]
  },
  {
   "cell_type": "code",
   "execution_count": null,
   "metadata": {},
   "outputs": [],
   "source": [
    "#右外部結合\n",
    "pd.merge(df1,df2,how='right')"
   ]
  },
  {
   "cell_type": "code",
   "execution_count": null,
   "metadata": {},
   "outputs": [],
   "source": [
    "#完全外部結合\n",
    "pd.merge(df1,df2, how='outer')"
   ]
  },
  {
   "cell_type": "code",
   "execution_count": null,
   "metadata": {
    "scrolled": true
   },
   "outputs": [],
   "source": [
    "#レコメンド対象ユーザの選出\n",
    "merged_df['user_id'].value_counts().head(10)"
   ]
  },
  {
   "cell_type": "code",
   "execution_count": null,
   "metadata": {},
   "outputs": [],
   "source": [
    "merged_df[merged_df['user_id']==57620 ]['rating'].hist(bins=50, figsize=(10,10), color = 'red')"
   ]
  },
  {
   "cell_type": "code",
   "execution_count": null,
   "metadata": {},
   "outputs": [],
   "source": [
    "merged_df[merged_df['user_id']==42635]['rating'].hist(bins=50, figsize=(10,10), color = 'red')"
   ]
  },
  {
   "cell_type": "code",
   "execution_count": null,
   "metadata": {},
   "outputs": [],
   "source": [
    "#ユーザ42635が好きなアニメ\n",
    "merged_df[(merged_df['user_id'] == 42635 ) & (merged_df['rating'] >= 9)].sort_values(by=['rating'],ascending=False)"
   ]
  },
  {
   "cell_type": "code",
   "execution_count": null,
   "metadata": {},
   "outputs": [],
   "source": [
    "merged_df[(merged_df['user_id'] == 42635 ) & (merged_df['rating'] >= 9)].sort_values(by=['rating'],ascending=False)"
   ]
  },
  {
   "cell_type": "code",
   "execution_count": null,
   "metadata": {},
   "outputs": [],
   "source": [
    "#ユーザごとの平均スコア\n",
    "%matplotlib inline\n",
    "rating.groupby(['user_id']).mean()['rating'].hist(bins=50, figsize=(10,10), color = 'red')"
   ]
  },
  {
   "cell_type": "code",
   "execution_count": null,
   "metadata": {},
   "outputs": [],
   "source": [
    "merged_df.head()"
   ]
  },
  {
   "cell_type": "code",
   "execution_count": null,
   "metadata": {},
   "outputs": [],
   "source": [
    "import sys"
   ]
  },
  {
   "cell_type": "code",
   "execution_count": null,
   "metadata": {},
   "outputs": [],
   "source": [
    "#ピアソンの相関係数\n",
    "def pearson_correlation_coefficient(x_df,x_ave,y_df,y_ave):\n",
    "    cov = std_x = std_y = 0.\n",
    "    \n",
    "    for x,y in zip(x_df['rating'],y_df['rating']): \n",
    "        cov += (x-x_ave)*(y-y_ave)\n",
    "        std_x += (x-x_ave)**2\n",
    "        std_y += (y-y_ave)**2\n",
    "    \n",
    "    r = cov /(np.sqrt(std_x)*np.sqrt(std_y))\n",
    "    return r"
   ]
  },
  {
   "cell_type": "code",
   "execution_count": null,
   "metadata": {},
   "outputs": [],
   "source": [
    "#準備\n",
    "user_u = 42635\n",
    "user_u_df  = merged_df[merged_df['user_id']==user_u]\n",
    "user_u_ave = user_u_df['rating'].mean()\n",
    "\n",
    "user_list = merged_df['user_id'].unique()\n",
    "\n",
    "similarity_df = pd.DataFrame(columns=['user_id','similarity'])"
   ]
  },
  {
   "cell_type": "code",
   "execution_count": null,
   "metadata": {
    "scrolled": true
   },
   "outputs": [],
   "source": [
    "import time\n",
    "start = time.time()\n",
    "\n",
    "for user_v in user_list:\n",
    "    \n",
    "    user_v_df  = merged_df[merged_df['user_id']==user_v]\n",
    "    user_v_ave = user_v_df['rating'].mean()\n",
    "\n",
    "    if len(user_v_df) <= 10:    \n",
    "        continue\n",
    "        \n",
    "    tmp_user_u_df = user_u_df[user_u_df['anime_id'].isin(user_v_df['anime_id'])]              #user_v_dfに含まれるuser_u_dfの要素のみを残す\n",
    "    \n",
    "    if len(tmp_user_u_df) <= 10:  \n",
    "        continue\n",
    "        \n",
    "    tmp_user_v_df = user_v_df[user_v_df['anime_id'].isin(tmp_user_u_df['anime_id'])]           #tmp_user_u_dfに含まれるuser_v_dfのみを残す\n",
    "    \n",
    "    value = pearson_correlation_coefficient(tmp_user_u_df,user_u_ave,tmp_user_v_df,user_v_ave)\n",
    "   \n",
    "    series = pd.Series([user_v,value], similarity_df.columns)\n",
    "    similarity_df = similarity_df.append(series,ignore_index = True)\n",
    "\n",
    "similarity_df = similarity_df[similarity_df['user_id'] != 42635]      #ユーザ42635を削除\n",
    "print(time.time()-start)"
   ]
  },
  {
   "cell_type": "code",
   "execution_count": null,
   "metadata": {},
   "outputs": [],
   "source": [
    "#速度比較用\n",
    "similarity_list = []\n",
    "start = time.time()\n",
    "\n",
    "\n",
    "for user_v in user_list:\n",
    "    \n",
    "    user_v_df  = merged_df[merged_df['user_id']==user_v]\n",
    "    user_v_ave = user_v_df['rating'].mean()\n",
    "\n",
    "    if len(user_v_df) <= 10:    \n",
    "        continue\n",
    "        \n",
    "    tmp_user_u_df = user_u_df[user_u_df['anime_id'].isin(user_v_df['anime_id'])]              \n",
    "    \n",
    "    if len(tmp_user_u_df) <= 10:  \n",
    "        continue\n",
    "        \n",
    "    tmp_user_v_df = user_v_df[user_v_df['anime_id'].isin(tmp_user_u_df['anime_id'])]            \n",
    "    \n",
    "    value = pearson_correlation_coefficient(tmp_user_u_df,user_u_ave,tmp_user_v_df,user_v_ave)\n",
    "   \n",
    "    similarity_list.append([user_v,value])\n",
    "\n",
    "cmp_similarity_df = pd.DataFrame(similarity_list,columns=['user_id','similarity'])\n",
    "cmp_similarity_df = cmp_similarity_df[cmp_similarity_df['user_id'] != 42635]                     \n",
    "\n",
    "print(time.time()-start)"
   ]
  },
  {
   "cell_type": "code",
   "execution_count": null,
   "metadata": {},
   "outputs": [],
   "source": [
    "similarity_df.shape"
   ]
  },
  {
   "cell_type": "code",
   "execution_count": null,
   "metadata": {},
   "outputs": [],
   "source": [
    "similarity_df['similarity'].hist(bins=50, figsize=(10,10), color = 'red')"
   ]
  },
  {
   "cell_type": "code",
   "execution_count": null,
   "metadata": {},
   "outputs": [],
   "source": [
    "sorted_similarity_df = similarity_df.sort_values(by=['similarity'], ascending=False)\n",
    "sorted_similarity_df.to_csv('similarity.csv', index=False)"
   ]
  },
  {
   "cell_type": "code",
   "execution_count": null,
   "metadata": {},
   "outputs": [],
   "source": [
    "#ユーザUが見ていないアニメのリスト\n",
    "not_watched = anime[~anime['anime_id'].isin(user_u_df['anime_id'])]"
   ]
  },
  {
   "cell_type": "code",
   "execution_count": null,
   "metadata": {},
   "outputs": [],
   "source": [
    "#類似度上位2500人のデータを含むDFを作成\n",
    "similar_user_df = merged_df[merged_df['user_id'].isin(sorted_similarity_df[:2500]['user_id'])]    \n",
    "\n",
    "#ユーザごとの平均値をとる\n",
    "similar_user_ave_df = similar_user_df.groupby(['user_id'], as_index=False).mean()\n",
    "\n",
    "#不要な列の削除と列名のリネーム\n",
    "similar_user_ave_df2 = similar_user_ave_df.drop('anime_id', axis=1).rename(columns={\"rating\":\"ave_rating\"})    "
   ]
  },
  {
   "cell_type": "code",
   "execution_count": null,
   "metadata": {},
   "outputs": [],
   "source": [
    "similar_user_ave_df.head()"
   ]
  },
  {
   "cell_type": "code",
   "execution_count": null,
   "metadata": {},
   "outputs": [],
   "source": [
    "similar_user_ave_df2.head()"
   ]
  },
  {
   "cell_type": "code",
   "execution_count": null,
   "metadata": {},
   "outputs": [],
   "source": [
    "#対象ユーザが見ていないアニメのみを含むDF\n",
    "similar_user_df2 = similar_user_df[similar_user_df['anime_id'].isin(not_watched['anime_id'])]\n",
    "\n",
    "#ユーザごとの平均スコアをDFに付け加える\n",
    "similar_user_df3 = similar_user_df2.merge(similar_user_ave_df2,how='left',on='user_id')"
   ]
  },
  {
   "cell_type": "code",
   "execution_count": null,
   "metadata": {},
   "outputs": [],
   "source": [
    "similar_user_df2.head()"
   ]
  },
  {
   "cell_type": "code",
   "execution_count": null,
   "metadata": {},
   "outputs": [],
   "source": [
    "similar_user_df3.head()"
   ]
  },
  {
   "cell_type": "code",
   "execution_count": null,
   "metadata": {},
   "outputs": [],
   "source": [
    "similar_user_df3.head()"
   ]
  },
  {
   "cell_type": "code",
   "execution_count": null,
   "metadata": {},
   "outputs": [],
   "source": [
    "def f(x): return (x['user_id'],x['anime_id'], x['name'],x['rating']-x['ave_rating'])\n",
    "\n",
    "similar_user_df4 = pd.DataFrame(list(similar_user_df3.apply(f,axis=1)),columns=['user_id','anime_id','name','rating'])\n",
    "similar_user_df4.head()"
   ]
  },
  {
   "cell_type": "code",
   "execution_count": null,
   "metadata": {},
   "outputs": [],
   "source": [
    "result = similar_user_df4.groupby('name', as_index=False).mean().sort_values(by=['rating'], ascending=False).drop(['anime_id','user_id'], axis=1)"
   ]
  },
  {
   "cell_type": "code",
   "execution_count": null,
   "metadata": {},
   "outputs": [],
   "source": [
    "result"
   ]
  }
 ],
 "metadata": {
  "kernelspec": {
   "display_name": "Python 3",
   "language": "python",
   "name": "python3"
  },
  "language_info": {
   "codemirror_mode": {
    "name": "ipython",
    "version": 3
   },
   "file_extension": ".py",
   "mimetype": "text/x-python",
   "name": "python",
   "nbconvert_exporter": "python",
   "pygments_lexer": "ipython3",
   "version": "3.6.5"
  }
 },
 "nbformat": 4,
 "nbformat_minor": 2
}
